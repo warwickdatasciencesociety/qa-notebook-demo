{
 "cells": [
  {
   "cell_type": "code",
   "execution_count": 32,
   "id": "secret-legislation",
   "metadata": {},
   "outputs": [],
   "source": [
    "import json\n",
    "import os\n",
    "import shutil"
   ]
  },
  {
   "cell_type": "code",
   "execution_count": 33,
   "id": "dedicated-bridal",
   "metadata": {},
   "outputs": [],
   "source": [
    "if os.path.exists('output'):\n",
    "    shutil.rmtree('output')\n",
    "os.mkdir('output')"
   ]
  },
  {
   "cell_type": "code",
   "execution_count": 34,
   "id": "wooden-triangle",
   "metadata": {},
   "outputs": [],
   "source": [
    "with open('example-notebook.ipynb') as f:\n",
    "    nb = json.load(f)"
   ]
  },
  {
   "cell_type": "code",
   "execution_count": 35,
   "id": "abroad-junction",
   "metadata": {},
   "outputs": [],
   "source": [
    "# Loop through cells\n",
    "for i, c in enumerate(nb['cells']):\n",
    "    if not c['cell_type'] == 'code':\n",
    "        continue\n",
    "    if not 'tags' in c['metadata']:\n",
    "        continue\n",
    "    if not 'solution' in c['metadata']['tags']:\n",
    "        continue\n",
    "    nb['cells'][i]['source'] = ['# Write here']"
   ]
  },
  {
   "cell_type": "code",
   "execution_count": 36,
   "id": "surrounded-flood",
   "metadata": {},
   "outputs": [
    {
     "data": {
      "text/plain": [
       "'output/questions.ipynb'"
      ]
     },
     "execution_count": 36,
     "metadata": {},
     "output_type": "execute_result"
    }
   ],
   "source": [
    "with open('output/solutions.ipynb', 'w') as f:\n",
    "    json.dump(nb, f)\n",
    "shutil.copyfile('example-notebook.ipynb', 'output/questions.ipynb')"
   ]
  },
  {
   "cell_type": "code",
   "execution_count": 37,
   "id": "proper-bargain",
   "metadata": {},
   "outputs": [
    {
     "data": {
      "text/plain": [
       "0"
      ]
     },
     "execution_count": 37,
     "metadata": {},
     "output_type": "execute_result"
    }
   ],
   "source": [
    "os.system('jupyter nbconvert --clear-output --inplace output/solutions.ipynb')"
   ]
  }
 ],
 "metadata": {
  "kernelspec": {
   "display_name": "Python 3",
   "language": "python",
   "name": "python3"
  },
  "language_info": {
   "codemirror_mode": {
    "name": "ipython",
    "version": 3
   },
   "file_extension": ".py",
   "mimetype": "text/x-python",
   "name": "python",
   "nbconvert_exporter": "python",
   "pygments_lexer": "ipython3",
   "version": "3.8.5"
  }
 },
 "nbformat": 4,
 "nbformat_minor": 5
}
